{
 "cells": [
  {
   "cell_type": "markdown",
   "id": "38193566",
   "metadata": {},
   "source": [
    "First all the needed modules are imported. The manipulated toysimulation module is needed."
   ]
  },
  {
   "cell_type": "code",
   "execution_count": 2,
   "id": "b54e5a1b",
   "metadata": {},
   "outputs": [
    {
     "ename": "ModuleNotFoundError",
     "evalue": "No module named 'osmnx'",
     "output_type": "error",
     "traceback": [
      "\u001b[1;31m---------------------------------------------------------------------------\u001b[0m",
      "\u001b[1;31mModuleNotFoundError\u001b[0m                       Traceback (most recent call last)",
      "\u001b[1;32m<ipython-input-2-10d2d9ffb88e>\u001b[0m in \u001b[0;36m<module>\u001b[1;34m\u001b[0m\n\u001b[0;32m      7\u001b[0m \u001b[1;32mimport\u001b[0m \u001b[0mmatplotlib\u001b[0m\u001b[1;33m.\u001b[0m\u001b[0mpyplot\u001b[0m \u001b[1;32mas\u001b[0m \u001b[0mplt\u001b[0m\u001b[1;33m\u001b[0m\u001b[1;33m\u001b[0m\u001b[0m\n\u001b[0;32m      8\u001b[0m \u001b[1;32mimport\u001b[0m \u001b[0mpandas\u001b[0m \u001b[1;32mas\u001b[0m \u001b[0mpd\u001b[0m\u001b[1;33m\u001b[0m\u001b[1;33m\u001b[0m\u001b[0m\n\u001b[1;32m----> 9\u001b[1;33m \u001b[1;32mimport\u001b[0m \u001b[0mosmnx\u001b[0m \u001b[1;32mas\u001b[0m \u001b[0mox\u001b[0m\u001b[1;33m\u001b[0m\u001b[1;33m\u001b[0m\u001b[0m\n\u001b[0m\u001b[0;32m     10\u001b[0m \u001b[1;33m\u001b[0m\u001b[0m\n\u001b[0;32m     11\u001b[0m \u001b[1;32mimport\u001b[0m \u001b[0mos\u001b[0m\u001b[1;33m\u001b[0m\u001b[1;33m\u001b[0m\u001b[0m\n",
      "\u001b[1;31mModuleNotFoundError\u001b[0m: No module named 'osmnx'"
     ]
    }
   ],
   "source": [
    "import numpy as np\n",
    "import networkx as nx\n",
    "from collections import defaultdict\n",
    "import random\n",
    "import pickle\n",
    "import matplotlib as mlp\n",
    "import matplotlib.pyplot as plt\n",
    "import pandas as pd\n",
    "import osmnx as ox\n",
    "\n",
    "import os\n",
    "import scipy as sp\n",
    "import scipy.stats\n",
    "\n",
    "import route\n",
    "\n",
    "from toysimulations2 import ZeroDetourBus, Stop, Request, Network"
   ]
  },
  {
   "cell_type": "markdown",
   "id": "2a33e724",
   "metadata": {},
   "source": [
    "The functions for generating the requests and starting the simulations are defined. In contrast to the functions in jumps_in_request_rate more parameters can be passed to make it possible to start the simulation with an already working bus."
   ]
  },
  {
   "cell_type": "code",
   "execution_count": 3,
   "id": "bbfd43d6",
   "metadata": {},
   "outputs": [],
   "source": [
    "def req_generator_uniform(graph, num_reqs, req_rate,t=0,req_idxi=0):\n",
    "    \"\"\"\n",
    "    Generates requests with rate=req_rate whose origin and\n",
    "    destination are drawn uniformly randomly. The requests\n",
    "    are generated in time as a Poisson process.\n",
    "    \"\"\"\n",
    "    req_idx=req_idxi\n",
    "    \n",
    "\n",
    "    while req_idx < num_reqs+req_idxi:\n",
    "        orig, dest = random.sample(graph.nodes(), k=2)\n",
    "        delta_t = np.random.exponential(1/req_rate)\n",
    "\n",
    "        t += delta_t\n",
    "        req_idx += 1\n",
    "        yield Request(req_idx, t, orig, dest)\n",
    "        \n",
    "def simulate_single_request_rate(G, nG, x,network_type, l_avg,initpos=None,time=0,remaining_time=0,next_stop=None,stoplist=[],req_data=dict(),insertion_data=[],req_idx=0):\n",
    "    \"\"\"\n",
    "    Simulates only as single request rate x. See the docstring of\n",
    "    `simulate_different_request_rates` for details on the arguments.\n",
    "    Takes in a number of parameters to make it possible to start the simulation with an allready working bus\n",
    "    \"\"\"\n",
    "    num_reqs = 5000\n",
    "    req_rate = x/2/l_avg\n",
    "    if initpos==None:\n",
    "        initpos=random.sample(G.nodes(), k=1)[0]\n",
    "\n",
    "    sim = ZeroDetourBus(nG,\n",
    "                        req_generator_uniform(G, num_reqs, req_rate,time,req_idx),\n",
    "                        network_type, \n",
    "                        initpos,\n",
    "                        time,\n",
    "                        remaining_time,\n",
    "                        next_stop,\n",
    "                        stoplist,\n",
    "                        req_data,\n",
    "                        insertion_data\n",
    "                       )\n",
    "    print(f\"simulating x={x}\")\n",
    "    sim.simulate_all_requests()\n",
    "    return sim.req_data, sim.insertion_data,sim.stoplist,sim.position,sim.time,sim.remaining_time, sim.next_stop\n",
    "        "
   ]
  },
  {
   "cell_type": "markdown",
   "id": "afc3f39e",
   "metadata": {},
   "source": [
    "The functions returning the performance parameter data averaged for every request are defined.\n",
    "One funtion gives back the data for the edge removal, the other for the effect x.\n",
    "Furthermore, functions that calculate a change in data are defined."
   ]
  },
  {
   "cell_type": "code",
   "execution_count": 5,
   "id": "815f80ce",
   "metadata": {},
   "outputs": [],
   "source": [
    "def calculate_avg_cutedge_g(G,nG,l_avg,x,edge):\n",
    "    \n",
    "    \"\"\"\n",
    "    30 iterations. Averages data over all iterations.\n",
    "    Starts a simulation with 5000 requests.\n",
    "    Afterwards an edge is removed and all the data from the first simulation passed to the second simulation.\n",
    "    \"\"\"\n",
    "    wait_gen=[]\n",
    "    stoplist_gen=[]\n",
    "    times_gen=[]\n",
    "    service_gen=[]\n",
    "    for i in range(0,30):\n",
    "        req_data1, insertion_data1,stoplist1,position1,time1,remaining_time1, next_stop1=simulate_single_request_rate(G, nG, x, network_type='novolcomp',l_avg=l_avg,initpos=None,time=0,remaining_time=0,next_stop=None,stoplist=[],req_data=dict(),insertion_data=[],req_idx=0)\n",
    "        \n",
    "        G.remove_edges_from(edge)\n",
    "        nG = Network(G,network_type='novolcomp')\n",
    "        #l_avg = nx.average_shortest_path_length(M)\n",
    "        req_data, insertion_data,stoplist,position,time,remaining_time, next_stop=simulate_single_request_rate(G, nG, x, network_type='novolcomp',l_avg=l_avg,initpos=position1,time=time1,remaining_time=remaining_time1,next_stop=next_stop1,stoplist=stoplist1,req_data=req_data1,insertion_data=insertion_data1,req_idx=list(req_data1)[-1])\n",
    "        wait=[]   \n",
    "        for key in req_data.keys():\n",
    "            wait.append(float(req_data[key]['pickup_epoch'])-float(req_data[key]['req_epoch']))\n",
    "        wait_gen.append(wait)\n",
    "        \n",
    "        service=[]\n",
    "        for key in req_data.keys():\n",
    "            service.append(float(req_data[key]['dropoff_epoch'])-float(req_data[key]['req_epoch']))\n",
    "        service_gen.append(service)\n",
    "\n",
    "        stoplist=[]\n",
    "        for element in insertion_data:\n",
    "            stoplist.append(element[1])\n",
    "        stoplist_gen.append(stoplist)  \n",
    "        \n",
    "        times_request=[]\n",
    "        for element in insertion_data:\n",
    "            times_request.append(element[0])\n",
    "        times_gen.append(times_request)\n",
    "        G.add_edges_from(edge)\n",
    "        nG=Network(G,network_type='novolcomp')\n",
    "        \n",
    "    temp_wait=np.array(wait_gen)\n",
    "    wait_sum=np.transpose(temp_wait)\n",
    "    wait_avg=[]\n",
    "    for i in wait_sum:\n",
    "        wait_avg.append(np.mean(i))\n",
    "        \n",
    "    temp_service=np.array(service_gen)\n",
    "    service_sum=np.transpose(temp_service)\n",
    "    service_avg=[]\n",
    "    for i in service_sum:\n",
    "        service_avg.append(np.mean(i))\n",
    "\n",
    "    temp_stoplist=np.array(stoplist_gen)\n",
    "    stoplist_sum=np.transpose(temp_stoplist)\n",
    "    stoplist_avg=[]\n",
    "    for element in stoplist_sum:\n",
    "        stoplist_avg.append(np.mean(element))\n",
    "        \n",
    "    temp_times=np.array(times_gen)\n",
    "    times_sum=np.transpose(temp_times)\n",
    "    times_avg=[]\n",
    "    for i in times_sum:\n",
    "        times_avg.append(np.mean(i))\n",
    "        \n",
    "    return wait_avg,stoplist_avg,times_avg,service_avg\n",
    "\n",
    "def calculate_effect_x_g(G,nG,l_avg,x,edge):\n",
    "    \n",
    "    \"\"\"\n",
    "    30 iterations. Averages data over all iterations.\n",
    "    Starts a simulation with 5000 requests.\n",
    "    Afterwards an edge is removed, the new request rate calculated and the edge is included again.\n",
    "    Then all the data from the first simulation passed to the second simulation.\n",
    "    \"\"\"\n",
    "    wait_gen=[]\n",
    "    stoplist_gen=[]\n",
    "    times_gen=[]\n",
    "    service_gen=[]\n",
    "    for i in range(0,30):\n",
    "        req_data1, insertion_data1,stoplist1,position1,time1,remaining_time1, next_stop1=simulate_single_request_rate(G, nG, x, network_type='novolcomp', l_avg=l_avg,initpos=None,time=0,remaining_time=0,next_stop=None,stoplist=[],req_data=dict(),insertion_data=[],req_idx=0)\n",
    "        \n",
    "        G.remove_edges_from(edge)\n",
    "        nG = Network(G,network_type='novolcomp')\n",
    "        l_avg_new = nx.average_shortest_path_length(G)\n",
    "        x_new=(l_avg_new/l_avg)*x\n",
    "        G.add_edges_from(edge)\n",
    "        nG = Network(G,network_type='novolcomp')\n",
    "        req_data, insertion_data,stoplist,position,time,remaining_time, next_stop=simulate_single_request_rate(G, nG, x_new, network_type='novolcomp', l_avg=l_avg,initpos=position1,time=time1,remaining_time=remaining_time1,next_stop=next_stop1,stoplist=stoplist1,req_data=req_data1,insertion_data=insertion_data1,req_idx=list(req_data1)[-1])\n",
    "        wait=[]   \n",
    "        for key in req_data.keys():\n",
    "            wait.append(float(req_data[key]['pickup_epoch'])-float(req_data[key]['req_epoch']))\n",
    "        wait_gen.append(wait)\n",
    "        \n",
    "        service=[]\n",
    "        for key in req_data.keys():\n",
    "            service.append(float(req_data[key]['dropoff_epoch'])-float(req_data[key]['req_epoch']))\n",
    "        service_gen.append(service)\n",
    "\n",
    "        stoplist=[]\n",
    "        for element in insertion_data:\n",
    "            stoplist.append(element[1])\n",
    "        stoplist_gen.append(stoplist)  \n",
    "        \n",
    "        times_request=[]\n",
    "        for element in insertion_data:\n",
    "            times_request.append(element[0])\n",
    "        times_gen.append(times_request)\n",
    "        \n",
    "    temp_wait=np.array(wait_gen)\n",
    "    wait_sum=np.transpose(temp_wait)\n",
    "    wait_avg=[]\n",
    "    for i in wait_sum:\n",
    "        wait_avg.append(np.mean(i))\n",
    "        \n",
    "    temp_service=np.array(service_gen)\n",
    "    service_sum=np.transpose(temp_service)\n",
    "    service_avg=[]\n",
    "    for i in service_sum:\n",
    "        service_avg.append(np.mean(i))\n",
    "\n",
    "    temp_stoplist=np.array(stoplist_gen)\n",
    "    stoplist_sum=np.transpose(temp_stoplist)\n",
    "    stoplist_avg=[]\n",
    "    for element in stoplist_sum:\n",
    "        stoplist_avg.append(np.mean(element))\n",
    "        \n",
    "    temp_times=np.array(times_gen)\n",
    "    times_sum=np.transpose(temp_times)\n",
    "    times_avg=[]\n",
    "    for i in times_sum:\n",
    "        times_avg.append(np.mean(i))\n",
    "        \n",
    "    return wait_avg,stoplist_avg,times_avg,service_avg\n",
    "\n",
    "def calculate_two_averages(data,cutoff):\n",
    "    avg_before=np.mean(data[:cutoff])\n",
    "    avg_after=np.mean(data[cutoff:])\n",
    "    return avg_before, avg_after\n",
    "\n",
    "def calculate_change(data,cutoff):\n",
    "    avg_before,avg_after=calculate_two_averages(data,cutoff)\n",
    "    change=avg_after-avg_before\n",
    "    return change"
   ]
  },
  {
   "cell_type": "markdown",
   "id": "d47ed4e8",
   "metadata": {},
   "source": [
    "The data is created on the network for Ingolstadt. Other networks work accordingly. Every edge that can be removed without disconnecting the network is removed and the change in stop list length and wait time calculated. At the same time the change in average shortest path length is calculated and all is saved into a dictionary with the edge as a key."
   ]
  },
  {
   "cell_type": "code",
   "execution_count": 6,
   "id": "90a8f15c",
   "metadata": {},
   "outputs": [
    {
     "name": "stdout",
     "output_type": "stream",
     "text": [
      "doing Ingolstadt\n"
     ]
    },
    {
     "ename": "ModuleNotFoundError",
     "evalue": "No module named 'shapely'",
     "output_type": "error",
     "traceback": [
      "\u001b[1;31m---------------------------------------------------------------------------\u001b[0m",
      "\u001b[1;31mModuleNotFoundError\u001b[0m                       Traceback (most recent call last)",
      "\u001b[1;32m<ipython-input-6-507bff9ed35f>\u001b[0m in \u001b[0;36m<module>\u001b[1;34m\u001b[0m\n\u001b[0;32m      1\u001b[0m \u001b[0mprint\u001b[0m\u001b[1;33m(\u001b[0m\u001b[1;34m\"doing Ingolstadt\"\u001b[0m\u001b[1;33m)\u001b[0m\u001b[1;33m\u001b[0m\u001b[1;33m\u001b[0m\u001b[0m\n\u001b[0;32m      2\u001b[0m \u001b[0mgraph_path\u001b[0m \u001b[1;33m=\u001b[0m \u001b[1;34m'graph_ingolstadt.gpkl'\u001b[0m\u001b[1;33m\u001b[0m\u001b[1;33m\u001b[0m\u001b[0m\n\u001b[1;32m----> 3\u001b[1;33m \u001b[0mG\u001b[0m \u001b[1;33m=\u001b[0m \u001b[0mnx\u001b[0m\u001b[1;33m.\u001b[0m\u001b[0mread_gpickle\u001b[0m\u001b[1;33m(\u001b[0m\u001b[0mgraph_path\u001b[0m\u001b[1;33m)\u001b[0m\u001b[1;33m\u001b[0m\u001b[1;33m\u001b[0m\u001b[0m\n\u001b[0m\u001b[0;32m      4\u001b[0m \u001b[0mnG\u001b[0m\u001b[1;33m=\u001b[0m\u001b[0mNetwork\u001b[0m\u001b[1;33m(\u001b[0m\u001b[0mG\u001b[0m\u001b[1;33m,\u001b[0m\u001b[0mnetwork_type\u001b[0m\u001b[1;33m=\u001b[0m\u001b[1;34m'novolcomp'\u001b[0m\u001b[1;33m)\u001b[0m\u001b[1;33m\u001b[0m\u001b[1;33m\u001b[0m\u001b[0m\n\u001b[0;32m      5\u001b[0m \u001b[0ml_avg\u001b[0m \u001b[1;33m=\u001b[0m \u001b[0mnx\u001b[0m\u001b[1;33m.\u001b[0m\u001b[0maverage_shortest_path_length\u001b[0m\u001b[1;33m(\u001b[0m\u001b[0mG\u001b[0m\u001b[1;33m)\u001b[0m\u001b[1;33m\u001b[0m\u001b[1;33m\u001b[0m\u001b[0m\n",
      "\u001b[1;32m~\\AppData\\Roaming\\Python\\Python38\\site-packages\\decorator.py\u001b[0m in \u001b[0;36mfun\u001b[1;34m(*args, **kw)\u001b[0m\n\u001b[0;32m    230\u001b[0m             \u001b[1;32mif\u001b[0m \u001b[1;32mnot\u001b[0m \u001b[0mkwsyntax\u001b[0m\u001b[1;33m:\u001b[0m\u001b[1;33m\u001b[0m\u001b[1;33m\u001b[0m\u001b[0m\n\u001b[0;32m    231\u001b[0m                 \u001b[0margs\u001b[0m\u001b[1;33m,\u001b[0m \u001b[0mkw\u001b[0m \u001b[1;33m=\u001b[0m \u001b[0mfix\u001b[0m\u001b[1;33m(\u001b[0m\u001b[0margs\u001b[0m\u001b[1;33m,\u001b[0m \u001b[0mkw\u001b[0m\u001b[1;33m,\u001b[0m \u001b[0msig\u001b[0m\u001b[1;33m)\u001b[0m\u001b[1;33m\u001b[0m\u001b[1;33m\u001b[0m\u001b[0m\n\u001b[1;32m--> 232\u001b[1;33m             \u001b[1;32mreturn\u001b[0m \u001b[0mcaller\u001b[0m\u001b[1;33m(\u001b[0m\u001b[0mfunc\u001b[0m\u001b[1;33m,\u001b[0m \u001b[1;33m*\u001b[0m\u001b[1;33m(\u001b[0m\u001b[0mextras\u001b[0m \u001b[1;33m+\u001b[0m \u001b[0margs\u001b[0m\u001b[1;33m)\u001b[0m\u001b[1;33m,\u001b[0m \u001b[1;33m**\u001b[0m\u001b[0mkw\u001b[0m\u001b[1;33m)\u001b[0m\u001b[1;33m\u001b[0m\u001b[1;33m\u001b[0m\u001b[0m\n\u001b[0m\u001b[0;32m    233\u001b[0m     \u001b[0mfun\u001b[0m\u001b[1;33m.\u001b[0m\u001b[0m__name__\u001b[0m \u001b[1;33m=\u001b[0m \u001b[0mfunc\u001b[0m\u001b[1;33m.\u001b[0m\u001b[0m__name__\u001b[0m\u001b[1;33m\u001b[0m\u001b[1;33m\u001b[0m\u001b[0m\n\u001b[0;32m    234\u001b[0m     \u001b[0mfun\u001b[0m\u001b[1;33m.\u001b[0m\u001b[0m__doc__\u001b[0m \u001b[1;33m=\u001b[0m \u001b[0mfunc\u001b[0m\u001b[1;33m.\u001b[0m\u001b[0m__doc__\u001b[0m\u001b[1;33m\u001b[0m\u001b[1;33m\u001b[0m\u001b[0m\n",
      "\u001b[1;32m~\\AppData\\Roaming\\Python\\Python38\\site-packages\\networkx\\utils\\decorators.py\u001b[0m in \u001b[0;36m_open_file\u001b[1;34m(func_to_be_decorated, *args, **kwargs)\u001b[0m\n\u001b[0;32m    237\u001b[0m         \u001b[1;31m# Finally, we call the original function, making sure to close the fobj\u001b[0m\u001b[1;33m\u001b[0m\u001b[1;33m\u001b[0m\u001b[1;33m\u001b[0m\u001b[0m\n\u001b[0;32m    238\u001b[0m         \u001b[1;32mtry\u001b[0m\u001b[1;33m:\u001b[0m\u001b[1;33m\u001b[0m\u001b[1;33m\u001b[0m\u001b[0m\n\u001b[1;32m--> 239\u001b[1;33m             \u001b[0mresult\u001b[0m \u001b[1;33m=\u001b[0m \u001b[0mfunc_to_be_decorated\u001b[0m\u001b[1;33m(\u001b[0m\u001b[1;33m*\u001b[0m\u001b[0mnew_args\u001b[0m\u001b[1;33m,\u001b[0m \u001b[1;33m**\u001b[0m\u001b[0mkwargs\u001b[0m\u001b[1;33m)\u001b[0m\u001b[1;33m\u001b[0m\u001b[1;33m\u001b[0m\u001b[0m\n\u001b[0m\u001b[0;32m    240\u001b[0m         \u001b[1;32mfinally\u001b[0m\u001b[1;33m:\u001b[0m\u001b[1;33m\u001b[0m\u001b[1;33m\u001b[0m\u001b[0m\n\u001b[0;32m    241\u001b[0m             \u001b[1;32mif\u001b[0m \u001b[0mclose_fobj\u001b[0m\u001b[1;33m:\u001b[0m\u001b[1;33m\u001b[0m\u001b[1;33m\u001b[0m\u001b[0m\n",
      "\u001b[1;32m~\\AppData\\Roaming\\Python\\Python38\\site-packages\\networkx\\readwrite\\gpickle.py\u001b[0m in \u001b[0;36mread_gpickle\u001b[1;34m(path)\u001b[0m\n\u001b[0;32m     88\u001b[0m     \u001b[1;33m.\u001b[0m\u001b[1;33m.\u001b[0m \u001b[1;33m[\u001b[0m\u001b[1;36m1\u001b[0m\u001b[1;33m]\u001b[0m \u001b[0mhttps\u001b[0m\u001b[1;33m:\u001b[0m\u001b[1;33m//\u001b[0m\u001b[0mdocs\u001b[0m\u001b[1;33m.\u001b[0m\u001b[0mpython\u001b[0m\u001b[1;33m.\u001b[0m\u001b[0morg\u001b[0m\u001b[1;33m/\u001b[0m\u001b[1;36m3\u001b[0m\u001b[1;33m/\u001b[0m\u001b[0mlibrary\u001b[0m\u001b[1;33m/\u001b[0m\u001b[0mpickle\u001b[0m\u001b[1;33m.\u001b[0m\u001b[0mhtml\u001b[0m\u001b[1;33m\u001b[0m\u001b[1;33m\u001b[0m\u001b[0m\n\u001b[0;32m     89\u001b[0m     \"\"\"\n\u001b[1;32m---> 90\u001b[1;33m     \u001b[1;32mreturn\u001b[0m \u001b[0mpickle\u001b[0m\u001b[1;33m.\u001b[0m\u001b[0mload\u001b[0m\u001b[1;33m(\u001b[0m\u001b[0mpath\u001b[0m\u001b[1;33m)\u001b[0m\u001b[1;33m\u001b[0m\u001b[1;33m\u001b[0m\u001b[0m\n\u001b[0m",
      "\u001b[1;31mModuleNotFoundError\u001b[0m: No module named 'shapely'"
     ]
    }
   ],
   "source": [
    "print(\"doing Ingolstadt\")\n",
    "graph_path = 'graph_ingolstadt.gpkl'\n",
    "G = nx.read_gpickle(graph_path)\n",
    "nG=Network(G,network_type='novolcomp')\n",
    "l_avg = nx.average_shortest_path_length(G)\n",
    "x=10\n",
    "all_edges=G.edges()\n",
    "edge_change={}\n",
    "for edge in all_edges:\n",
    "    print(\"doing Ingolstadt\")\n",
    "    graph_path = 'graph_ingolstadt.gpkl'\n",
    "    G = nx.read_gpickle(graph_path)\n",
    "    nG=Network(G,network_type='novolcomp')\n",
    "    l_avg = nx.average_shortest_path_length(G)\n",
    "    x=10\n",
    "    try:\n",
    "        edgelist=[]\n",
    "        edgelist.append(edge)\n",
    "        wait_avg_e,stoplist_avg_e,times_avg_e,service_avg_e=calculate_avg_cutedge_g(G,nG,l_avg,x,edgelist)\n",
    "        wait_avg_x,stoplist_avg_x,times_avg_x,service_avg_x=calculate_effect_x_g(G,nG,l_avg,x,edgelist)\n",
    "        \n",
    "        change_stoplist_edge_x=calculate_change(stoplist_avg_e_x,5000)\n",
    "        #print(change_stoplist_edge)\n",
    "        change_wait_edge_x=calculate_change(wait_avg_e_x,5000)\n",
    "        #print(change_wait_edge)\n",
    "       \n",
    "        change_stoplist_edge=calculate_change(stoplist_avg_e,5000)\n",
    "        #print(change_stoplist_edge)\n",
    "        change_stoplist_x=calculate_change(stoplist_avg_x,5000)\n",
    "        #print(change_stoplist_x)\n",
    "        change_wait_edge=calculate_change(wait_avg_e,5000)\n",
    "        #print(change_wait_edge)\n",
    "        change_wait_x=calculate_change(wait_avg_x,5000)\n",
    "        #print(change_wait_x)\n",
    "        #edge_changes_ownnetwork_x10[edge]={'stoplistchange_e':change_stoplist_edge, 'stoplistchange_x':change_stoplist_x, 'waitchange_e':change_wait_edge,'waitchange_x':change_wait_x}\n",
    "        #print(edge_changes_ingolstadt_x10)\n",
    "        \n",
    "        l_avg=nx.average_shortest_path_length(G)\n",
    "        #print(l_avg)\n",
    "        G.remove_edges_from(edgelist)\n",
    "        nG = Network(G,network_type='novolcomp')\n",
    "        l_avg_change=nx.average_shortest_path_length(G)-l_avg\n",
    "        #print(l_avg_change)\n",
    "        G.add_edges_from(edgelist)\n",
    "        nG = Network(G,network_type='novolcomp')\n",
    "        \n",
    "\n",
    "        #print(changes)\n",
    "        #print(changes_betw)\n",
    "        edge_change[edge]={'change lavg':l_avg_change,'change stoplist e':change_stoplist_edge,'change stoplist x':change_stoplist_x,'change wait e':change_wait_edge,'change wait x': change_wait_x}\n",
    "        \n",
    "    except KeyError:\n",
    "        G.add_edges_from(edgelist)\n",
    "        nG = Network(G,network_type='novolcomp')\n",
    "        print(edge)\n",
    "        continue\n",
    "        \n"
   ]
  },
  {
   "cell_type": "markdown",
   "id": "2c54a51b",
   "metadata": {},
   "source": [
    "The Hamilton cycle in the remaining network for every single edge is calculated and included in the dictionary.\n"
   ]
  },
  {
   "cell_type": "code",
   "execution_count": 7,
   "id": "5d77f380",
   "metadata": {},
   "outputs": [
    {
     "ename": "ModuleNotFoundError",
     "evalue": "No module named 'shapely'",
     "output_type": "error",
     "traceback": [
      "\u001b[1;31m---------------------------------------------------------------------------\u001b[0m",
      "\u001b[1;31mModuleNotFoundError\u001b[0m                       Traceback (most recent call last)",
      "\u001b[1;32m<ipython-input-7-aeb7a14eaa44>\u001b[0m in \u001b[0;36m<module>\u001b[1;34m\u001b[0m\n\u001b[0;32m      1\u001b[0m \u001b[0mgraph_path\u001b[0m \u001b[1;33m=\u001b[0m \u001b[1;34m'graph_ingolstadt.gpkl'\u001b[0m\u001b[1;33m\u001b[0m\u001b[1;33m\u001b[0m\u001b[0m\n\u001b[1;32m----> 2\u001b[1;33m \u001b[0mG\u001b[0m \u001b[1;33m=\u001b[0m \u001b[0mnx\u001b[0m\u001b[1;33m.\u001b[0m\u001b[0mread_gpickle\u001b[0m\u001b[1;33m(\u001b[0m\u001b[0mgraph_path\u001b[0m\u001b[1;33m)\u001b[0m\u001b[1;33m\u001b[0m\u001b[1;33m\u001b[0m\u001b[0m\n\u001b[0m\u001b[0;32m      3\u001b[0m \u001b[1;32mfor\u001b[0m \u001b[0medge\u001b[0m \u001b[1;32min\u001b[0m \u001b[0medge_change\u001b[0m\u001b[1;33m.\u001b[0m\u001b[0mkeys\u001b[0m\u001b[1;33m(\u001b[0m\u001b[1;33m)\u001b[0m\u001b[1;33m:\u001b[0m\u001b[1;33m\u001b[0m\u001b[1;33m\u001b[0m\u001b[0m\n\u001b[0;32m      4\u001b[0m     \u001b[0medgelist\u001b[0m\u001b[1;33m=\u001b[0m\u001b[1;33m[\u001b[0m\u001b[1;33m]\u001b[0m\u001b[1;33m\u001b[0m\u001b[1;33m\u001b[0m\u001b[0m\n\u001b[0;32m      5\u001b[0m     \u001b[0medgelist\u001b[0m\u001b[1;33m.\u001b[0m\u001b[0mappend\u001b[0m\u001b[1;33m(\u001b[0m\u001b[0medge\u001b[0m\u001b[1;33m)\u001b[0m\u001b[1;33m\u001b[0m\u001b[1;33m\u001b[0m\u001b[0m\n",
      "\u001b[1;32m~\\AppData\\Roaming\\Python\\Python38\\site-packages\\decorator.py\u001b[0m in \u001b[0;36mfun\u001b[1;34m(*args, **kw)\u001b[0m\n\u001b[0;32m    230\u001b[0m             \u001b[1;32mif\u001b[0m \u001b[1;32mnot\u001b[0m \u001b[0mkwsyntax\u001b[0m\u001b[1;33m:\u001b[0m\u001b[1;33m\u001b[0m\u001b[1;33m\u001b[0m\u001b[0m\n\u001b[0;32m    231\u001b[0m                 \u001b[0margs\u001b[0m\u001b[1;33m,\u001b[0m \u001b[0mkw\u001b[0m \u001b[1;33m=\u001b[0m \u001b[0mfix\u001b[0m\u001b[1;33m(\u001b[0m\u001b[0margs\u001b[0m\u001b[1;33m,\u001b[0m \u001b[0mkw\u001b[0m\u001b[1;33m,\u001b[0m \u001b[0msig\u001b[0m\u001b[1;33m)\u001b[0m\u001b[1;33m\u001b[0m\u001b[1;33m\u001b[0m\u001b[0m\n\u001b[1;32m--> 232\u001b[1;33m             \u001b[1;32mreturn\u001b[0m \u001b[0mcaller\u001b[0m\u001b[1;33m(\u001b[0m\u001b[0mfunc\u001b[0m\u001b[1;33m,\u001b[0m \u001b[1;33m*\u001b[0m\u001b[1;33m(\u001b[0m\u001b[0mextras\u001b[0m \u001b[1;33m+\u001b[0m \u001b[0margs\u001b[0m\u001b[1;33m)\u001b[0m\u001b[1;33m,\u001b[0m \u001b[1;33m**\u001b[0m\u001b[0mkw\u001b[0m\u001b[1;33m)\u001b[0m\u001b[1;33m\u001b[0m\u001b[1;33m\u001b[0m\u001b[0m\n\u001b[0m\u001b[0;32m    233\u001b[0m     \u001b[0mfun\u001b[0m\u001b[1;33m.\u001b[0m\u001b[0m__name__\u001b[0m \u001b[1;33m=\u001b[0m \u001b[0mfunc\u001b[0m\u001b[1;33m.\u001b[0m\u001b[0m__name__\u001b[0m\u001b[1;33m\u001b[0m\u001b[1;33m\u001b[0m\u001b[0m\n\u001b[0;32m    234\u001b[0m     \u001b[0mfun\u001b[0m\u001b[1;33m.\u001b[0m\u001b[0m__doc__\u001b[0m \u001b[1;33m=\u001b[0m \u001b[0mfunc\u001b[0m\u001b[1;33m.\u001b[0m\u001b[0m__doc__\u001b[0m\u001b[1;33m\u001b[0m\u001b[1;33m\u001b[0m\u001b[0m\n",
      "\u001b[1;32m~\\AppData\\Roaming\\Python\\Python38\\site-packages\\networkx\\utils\\decorators.py\u001b[0m in \u001b[0;36m_open_file\u001b[1;34m(func_to_be_decorated, *args, **kwargs)\u001b[0m\n\u001b[0;32m    237\u001b[0m         \u001b[1;31m# Finally, we call the original function, making sure to close the fobj\u001b[0m\u001b[1;33m\u001b[0m\u001b[1;33m\u001b[0m\u001b[1;33m\u001b[0m\u001b[0m\n\u001b[0;32m    238\u001b[0m         \u001b[1;32mtry\u001b[0m\u001b[1;33m:\u001b[0m\u001b[1;33m\u001b[0m\u001b[1;33m\u001b[0m\u001b[0m\n\u001b[1;32m--> 239\u001b[1;33m             \u001b[0mresult\u001b[0m \u001b[1;33m=\u001b[0m \u001b[0mfunc_to_be_decorated\u001b[0m\u001b[1;33m(\u001b[0m\u001b[1;33m*\u001b[0m\u001b[0mnew_args\u001b[0m\u001b[1;33m,\u001b[0m \u001b[1;33m**\u001b[0m\u001b[0mkwargs\u001b[0m\u001b[1;33m)\u001b[0m\u001b[1;33m\u001b[0m\u001b[1;33m\u001b[0m\u001b[0m\n\u001b[0m\u001b[0;32m    240\u001b[0m         \u001b[1;32mfinally\u001b[0m\u001b[1;33m:\u001b[0m\u001b[1;33m\u001b[0m\u001b[1;33m\u001b[0m\u001b[0m\n\u001b[0;32m    241\u001b[0m             \u001b[1;32mif\u001b[0m \u001b[0mclose_fobj\u001b[0m\u001b[1;33m:\u001b[0m\u001b[1;33m\u001b[0m\u001b[1;33m\u001b[0m\u001b[0m\n",
      "\u001b[1;32m~\\AppData\\Roaming\\Python\\Python38\\site-packages\\networkx\\readwrite\\gpickle.py\u001b[0m in \u001b[0;36mread_gpickle\u001b[1;34m(path)\u001b[0m\n\u001b[0;32m     88\u001b[0m     \u001b[1;33m.\u001b[0m\u001b[1;33m.\u001b[0m \u001b[1;33m[\u001b[0m\u001b[1;36m1\u001b[0m\u001b[1;33m]\u001b[0m \u001b[0mhttps\u001b[0m\u001b[1;33m:\u001b[0m\u001b[1;33m//\u001b[0m\u001b[0mdocs\u001b[0m\u001b[1;33m.\u001b[0m\u001b[0mpython\u001b[0m\u001b[1;33m.\u001b[0m\u001b[0morg\u001b[0m\u001b[1;33m/\u001b[0m\u001b[1;36m3\u001b[0m\u001b[1;33m/\u001b[0m\u001b[0mlibrary\u001b[0m\u001b[1;33m/\u001b[0m\u001b[0mpickle\u001b[0m\u001b[1;33m.\u001b[0m\u001b[0mhtml\u001b[0m\u001b[1;33m\u001b[0m\u001b[1;33m\u001b[0m\u001b[0m\n\u001b[0;32m     89\u001b[0m     \"\"\"\n\u001b[1;32m---> 90\u001b[1;33m     \u001b[1;32mreturn\u001b[0m \u001b[0mpickle\u001b[0m\u001b[1;33m.\u001b[0m\u001b[0mload\u001b[0m\u001b[1;33m(\u001b[0m\u001b[0mpath\u001b[0m\u001b[1;33m)\u001b[0m\u001b[1;33m\u001b[0m\u001b[1;33m\u001b[0m\u001b[0m\n\u001b[0m",
      "\u001b[1;31mModuleNotFoundError\u001b[0m: No module named 'shapely'"
     ]
    }
   ],
   "source": [
    "graph_path = 'graph_ingolstadt.gpkl'\n",
    "G = nx.read_gpickle(graph_path)\n",
    "for edge in edge_change.keys():\n",
    "    edgelist=[]\n",
    "    edgelist.append(edge)\n",
    "    G.remove_edges_from(edgelist)\n",
    "    cycle=nx.approximation.traveling_salesman_problem(G)\n",
    "    cyclelength=len(cycle)\n",
    "    G.add_edges_from(edgelist)\n",
    "    edge_change[edge]['cycle_len']=cyclelength"
   ]
  },
  {
   "cell_type": "markdown",
   "id": "99e177ed",
   "metadata": {},
   "source": [
    "The Betweenness Centrality for every single edge is calculated and included in the dictionary."
   ]
  },
  {
   "cell_type": "code",
   "execution_count": 8,
   "id": "bc3d0955",
   "metadata": {},
   "outputs": [
    {
     "ename": "NameError",
     "evalue": "name 'G' is not defined",
     "output_type": "error",
     "traceback": [
      "\u001b[1;31m---------------------------------------------------------------------------\u001b[0m",
      "\u001b[1;31mNameError\u001b[0m                                 Traceback (most recent call last)",
      "\u001b[1;32m<ipython-input-8-344c7f202083>\u001b[0m in \u001b[0;36m<module>\u001b[1;34m\u001b[0m\n\u001b[1;32m----> 1\u001b[1;33m \u001b[0mbetw_centr\u001b[0m\u001b[1;33m=\u001b[0m\u001b[0mnx\u001b[0m\u001b[1;33m.\u001b[0m\u001b[0medge_betweenness_centrality\u001b[0m\u001b[1;33m(\u001b[0m\u001b[0mG\u001b[0m\u001b[1;33m,\u001b[0m \u001b[0mk\u001b[0m\u001b[1;33m=\u001b[0m\u001b[1;32mNone\u001b[0m\u001b[1;33m,\u001b[0m \u001b[0mnormalized\u001b[0m\u001b[1;33m=\u001b[0m\u001b[1;32mTrue\u001b[0m\u001b[1;33m,\u001b[0m \u001b[0mweight\u001b[0m\u001b[1;33m=\u001b[0m\u001b[1;32mNone\u001b[0m\u001b[1;33m,\u001b[0m \u001b[0mseed\u001b[0m\u001b[1;33m=\u001b[0m\u001b[1;32mNone\u001b[0m\u001b[1;33m)\u001b[0m\u001b[1;33m\u001b[0m\u001b[1;33m\u001b[0m\u001b[0m\n\u001b[0m\u001b[0;32m      2\u001b[0m \u001b[1;32mfor\u001b[0m \u001b[0medge\u001b[0m \u001b[1;32min\u001b[0m \u001b[0medge_change\u001b[0m\u001b[1;33m.\u001b[0m\u001b[0mkeys\u001b[0m\u001b[1;33m(\u001b[0m\u001b[1;33m)\u001b[0m\u001b[1;33m:\u001b[0m\u001b[1;33m\u001b[0m\u001b[1;33m\u001b[0m\u001b[0m\n\u001b[0;32m      3\u001b[0m     \u001b[0medge_change\u001b[0m\u001b[1;33m[\u001b[0m\u001b[1;34m'betw cen'\u001b[0m\u001b[1;33m]\u001b[0m\u001b[1;33m=\u001b[0m\u001b[0mbetw_centr\u001b[0m\u001b[1;33m[\u001b[0m\u001b[0medge\u001b[0m\u001b[1;33m]\u001b[0m\u001b[1;33m\u001b[0m\u001b[1;33m\u001b[0m\u001b[0m\n",
      "\u001b[1;31mNameError\u001b[0m: name 'G' is not defined"
     ]
    }
   ],
   "source": [
    "betw_centr=nx.edge_betweenness_centrality(G, k=None, normalized=True, weight=None, seed=None)\n",
    "for edge in edge_change.keys():\n",
    "    edge_change['betw cen']=betw_centr[edge]\n"
   ]
  },
  {
   "cell_type": "markdown",
   "id": "1bd329da",
   "metadata": {},
   "source": [
    "The Betweenness Centrality Concentration in the remaining network for every single edge is calculated and included in the dictionary."
   ]
  },
  {
   "cell_type": "code",
   "execution_count": 9,
   "id": "25aa465b",
   "metadata": {},
   "outputs": [
    {
     "ename": "NameError",
     "evalue": "name 'edge_change' is not defined",
     "output_type": "error",
     "traceback": [
      "\u001b[1;31m---------------------------------------------------------------------------\u001b[0m",
      "\u001b[1;31mNameError\u001b[0m                                 Traceback (most recent call last)",
      "\u001b[1;32m<ipython-input-9-d72da65b8e84>\u001b[0m in \u001b[0;36m<module>\u001b[1;34m\u001b[0m\n\u001b[1;32m----> 1\u001b[1;33m \u001b[1;32mfor\u001b[0m \u001b[0medge\u001b[0m \u001b[1;32min\u001b[0m \u001b[0medge_change\u001b[0m\u001b[1;33m.\u001b[0m\u001b[0mkeys\u001b[0m\u001b[1;33m(\u001b[0m\u001b[1;33m)\u001b[0m\u001b[1;33m:\u001b[0m\u001b[1;33m\u001b[0m\u001b[1;33m\u001b[0m\u001b[0m\n\u001b[0m\u001b[0;32m      2\u001b[0m     \u001b[0medgelist\u001b[0m\u001b[1;33m=\u001b[0m\u001b[1;33m[\u001b[0m\u001b[1;33m]\u001b[0m\u001b[1;33m\u001b[0m\u001b[1;33m\u001b[0m\u001b[0m\n\u001b[0;32m      3\u001b[0m     \u001b[0medgelist\u001b[0m\u001b[1;33m.\u001b[0m\u001b[0mappend\u001b[0m\u001b[1;33m(\u001b[0m\u001b[0medge\u001b[0m\u001b[1;33m)\u001b[0m\u001b[1;33m\u001b[0m\u001b[1;33m\u001b[0m\u001b[0m\n\u001b[0;32m      4\u001b[0m     \u001b[0mG\u001b[0m\u001b[1;33m.\u001b[0m\u001b[0mremove_edges_from\u001b[0m\u001b[1;33m(\u001b[0m\u001b[0medgelist\u001b[0m\u001b[1;33m)\u001b[0m\u001b[1;33m\u001b[0m\u001b[1;33m\u001b[0m\u001b[0m\n\u001b[0;32m      5\u001b[0m     betweenness_with_all=nx.edge_betweenness_centrality(G, k=None, normalized=True, weight=None,\n",
      "\u001b[1;31mNameError\u001b[0m: name 'edge_change' is not defined"
     ]
    }
   ],
   "source": [
    "for edge in edge_change.keys():\n",
    "    edgelist=[]\n",
    "    edgelist.append(edge)\n",
    "    G.remove_edges_from(edgelist)\n",
    "    betweenness_with_all=nx.edge_betweenness_centrality(G, k=None, normalized=True, weight=None,\n",
    "                                    seed=None)\n",
    "    total=0\n",
    "    for i in betweenness_with_all.keys():\n",
    "        total=total+betweenness_with_all[i]\n",
    "    hhi=0\n",
    "    for i in betweenness_with_all.keys():\n",
    "        hhi=hhi+np.square(betweenness_with_all[i]/total)\n",
    "    edge_change[edge]['hhi betw']=hhi\n",
    "    G.add_edges_from(edgelist)"
   ]
  },
  {
   "cell_type": "markdown",
   "id": "5d97af0e",
   "metadata": {},
   "source": [
    "The link usage calculated in the file link_usage can also be included in the dictionary."
   ]
  },
  {
   "cell_type": "code",
   "execution_count": 10,
   "id": "10d2a043",
   "metadata": {},
   "outputs": [
    {
     "ename": "SyntaxError",
     "evalue": "invalid syntax (<ipython-input-10-b02e8d26efb9>, line 1)",
     "output_type": "error",
     "traceback": [
      "\u001b[1;36m  File \u001b[1;32m\"<ipython-input-10-b02e8d26efb9>\"\u001b[1;36m, line \u001b[1;32m1\u001b[0m\n\u001b[1;33m    link_usage=#insert data from file link_usage here\u001b[0m\n\u001b[1;37m               ^\u001b[0m\n\u001b[1;31mSyntaxError\u001b[0m\u001b[1;31m:\u001b[0m invalid syntax\n"
     ]
    }
   ],
   "source": [
    "link_usage=#insert data from file link_usage here\n",
    "for edge in edge_change.keys():\n",
    "    edge_change[edge]['link usage']=link_usage_network_1[edge]"
   ]
  },
  {
   "cell_type": "markdown",
   "id": "7dbf8fd1",
   "metadata": {},
   "source": [
    "From the created dictionary the data can be vizualied."
   ]
  },
  {
   "cell_type": "code",
   "execution_count": 11,
   "id": "6e41e967",
   "metadata": {},
   "outputs": [
    {
     "ename": "NameError",
     "evalue": "name 'changes_ingol' is not defined",
     "output_type": "error",
     "traceback": [
      "\u001b[1;31m---------------------------------------------------------------------------\u001b[0m",
      "\u001b[1;31mNameError\u001b[0m                                 Traceback (most recent call last)",
      "\u001b[1;32m<ipython-input-11-00571d54b09e>\u001b[0m in \u001b[0;36m<module>\u001b[1;34m\u001b[0m\n\u001b[0;32m      9\u001b[0m \u001b[0mcircle_len\u001b[0m\u001b[1;33m=\u001b[0m\u001b[1;33m[\u001b[0m\u001b[1;33m]\u001b[0m\u001b[1;33m\u001b[0m\u001b[1;33m\u001b[0m\u001b[0m\n\u001b[0;32m     10\u001b[0m \u001b[1;33m\u001b[0m\u001b[0m\n\u001b[1;32m---> 11\u001b[1;33m \u001b[1;32mfor\u001b[0m \u001b[0medge\u001b[0m \u001b[1;32min\u001b[0m \u001b[0mchanges_ingol\u001b[0m\u001b[1;33m.\u001b[0m\u001b[0mkeys\u001b[0m\u001b[1;33m(\u001b[0m\u001b[1;33m)\u001b[0m\u001b[1;33m:\u001b[0m\u001b[1;33m\u001b[0m\u001b[1;33m\u001b[0m\u001b[0m\n\u001b[0m\u001b[0;32m     12\u001b[0m     \u001b[0mlink_usage_ingol\u001b[0m\u001b[1;33m.\u001b[0m\u001b[0mappend\u001b[0m\u001b[1;33m(\u001b[0m\u001b[0medge_change\u001b[0m\u001b[1;33m[\u001b[0m\u001b[0medge\u001b[0m\u001b[1;33m]\u001b[0m\u001b[1;33m[\u001b[0m\u001b[1;34m'link usage'\u001b[0m\u001b[1;33m]\u001b[0m\u001b[1;33m)\u001b[0m\u001b[1;33m\u001b[0m\u001b[1;33m\u001b[0m\u001b[0m\n\u001b[0;32m     13\u001b[0m     \u001b[0ml_avg_changes_ingol\u001b[0m\u001b[1;33m.\u001b[0m\u001b[0mappend\u001b[0m\u001b[1;33m(\u001b[0m\u001b[0medge_change\u001b[0m\u001b[1;33m[\u001b[0m\u001b[0medge\u001b[0m\u001b[1;33m]\u001b[0m\u001b[1;33m[\u001b[0m\u001b[1;34m'change lavg'\u001b[0m\u001b[1;33m]\u001b[0m\u001b[1;33m)\u001b[0m\u001b[1;33m\u001b[0m\u001b[1;33m\u001b[0m\u001b[0m\n",
      "\u001b[1;31mNameError\u001b[0m: name 'changes_ingol' is not defined"
     ]
    }
   ],
   "source": [
    "stoplist_e_ingol=[]\n",
    "wait_e_ingol=[]\n",
    "l_avg_changes_ingol=[]\n",
    "link_usage_ingol=[]\n",
    "hhi_betw_ingol=[]\n",
    "stoplist_x_ingol=[]\n",
    "wait_x_ingol=[]\n",
    "betw_cen=[]\n",
    "circle_len=[]\n",
    "\n",
    "for edge in edge_change.keys():\n",
    "    link_usage_ingol.append(edge_change[edge]['link usage'])\n",
    "    l_avg_changes_ingol.append(edge_change[edge]['change lavg'])\n",
    "    stoplist_e_ingol.append(edge_change[edge]['change stoplist e'])\n",
    "    wait_e_ingol.append(edge_change[edge]['change wait e'])\n",
    "    hhi_betw_ingol.append(edge_change[edge]['hhi betw'])\n",
    "    stoplist_x_ingol.append(edge_change[edge]['change stoplist x'])\n",
    "    wait_x_ingol.append(edge_change[edge]['change wait x'])\n",
    "    betw_cen.append(edge_change[edge]['betw cen'])\n",
    "    circle_len.append(edge_change[edge]['cycle_len'])\n",
    "    \n",
    "#example of the visualization of the average shortest path length, other parameters work accordingly\n",
    "bin_means_e, bin_edges_e, binnumber_e =scipy.stats.binned_statistic(l_avg_changes_ingol, stoplist_e_ingol, statistic='mean', bins=10, range=None)\n",
    "bin_means_x,bin_edges_x,binnumber_x= scipy.stats.binned_statistic(l_avg_changes_ingol, wait_x_ingol, statistic='mean', bins=10, range=None)\n",
    "\n",
    "plt.scatter(bin_edges_e[1:], bin_means_e, color='blue',label='Edge')\n",
    "plt.scatter(bin_edges_x[1:], bin_means_x, color='red',label='Effect x')\n",
    "\n",
    "plt.xlabel('Change of Average Shortest Path Length')\n",
    "plt.ylabel('Change in Stop List Length')\n",
    "plt.title('Ingolstadt')"
   ]
  },
  {
   "cell_type": "markdown",
   "id": "cea1f927",
   "metadata": {},
   "source": [
    "For the data of the other networks and the five random networks combined, the same procedure is applied like on the street network of Ingolstadt. To plot five networks into one graph the data from the dictionaries is all united into one array and then plotted. "
   ]
  },
  {
   "cell_type": "code",
   "execution_count": null,
   "id": "1bb6f79e",
   "metadata": {},
   "outputs": [],
   "source": []
  }
 ],
 "metadata": {
  "kernelspec": {
   "display_name": "Python 3",
   "language": "python",
   "name": "python3"
  },
  "language_info": {
   "codemirror_mode": {
    "name": "ipython",
    "version": 3
   },
   "file_extension": ".py",
   "mimetype": "text/x-python",
   "name": "python",
   "nbconvert_exporter": "python",
   "pygments_lexer": "ipython3",
   "version": "3.8.8"
  }
 },
 "nbformat": 4,
 "nbformat_minor": 5
}
